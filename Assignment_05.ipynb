{
 "cells": [
  {
   "attachments": {},
   "cell_type": "markdown",
   "metadata": {},
   "source": [
    "Assignment 5 \n"
   ]
  },
  {
   "attachments": {},
   "cell_type": "markdown",
   "metadata": {},
   "source": [
    "Q1.What does an empty dictionary's code look like?\n",
    "\n",
    "Answer:- dictionary are represented by two types.\n",
    "             d = {} or d = dict()\n",
    "\n"
   ]
  },
  {
   "attachments": {},
   "cell_type": "markdown",
   "metadata": {},
   "source": [
    "Q2.what is the value of dictionary value with key 'foo' and the value 42 ?\n",
    "Answer:-  {'foo':42}"
   ]
  },
  {
   "attachments": {},
   "cell_type": "markdown",
   "metadata": {},
   "source": [
    "Q3.What is the most significant distinction between a dictionary and a list?\n",
    "Answer: Dictionaries are represented by {}\n",
    " where as listed are represented by []\n",
    "The Items stored in a dictionary are Unordered ,\n",
    " while the items in a list are ordered"
   ]
  },
  {
   "attachments": {},
   "cell_type": "markdown",
   "metadata": {},
   "source": [
    "Q4.What happens if you try to access spam ['foo'] if spam is {'bar':100} ?\n",
    "Answer: we will get a keyError \n",
    "\n",
    "                KeyError: 'foo'"
   ]
  },
  {
   "attachments": {},
   "cell_type": "markdown",
   "metadata": {},
   "source": [
    "Q5.if a dictionary is stored in spam,what is the difference between the expressions 'cat' in spam and 'cat' in spam.keys() ?\n",
    "Answer: There is no difference . The operator checks whether a value exits as a key in the dictionary or not"
   ]
  },
  {
   "attachments": {},
   "cell_type": "markdown",
   "metadata": {},
   "source": [
    "Q6.if a dictionary is stored in spam,what is the difference between the expressions 'cat' in spam and 'cat' in spam.values() ?\n",
    "Answer:'cat' in spam checks whether there is a 'cat' key in the dictionary, while 'cat' in spam.values() checks whether there is a value 'cat' for one of the keys in spam."
   ]
  },
  {
   "attachments": {},
   "cell_type": "markdown",
   "metadata": {},
   "source": [
    "Q7.what is a shortcut for the following code ?\n",
    "if 'color' not in spam: spam['color'] ='black'\n",
    "\n",
    "Answer: spam.setdefault('color','black')"
   ]
  },
  {
   "attachments": {},
   "cell_type": "markdown",
   "metadata": {},
   "source": [
    "Q8.How do you 'pretty print' dictionary values using which modules and function ?\n",
    "\n",
    "Answer: we can pretty print a dictionary using three functions\n",
    "\n",
    "1.by using pprint() function of pprint module\n",
    "    Note: pprint() function doesnot prettify nested dictionaries\n",
    "2.by using dumps() method of json module\n",
    "3.by using dumps() method of yaml module"
   ]
  },
  {
   "cell_type": "code",
   "execution_count": 2,
   "metadata": {},
   "outputs": [
    {
     "name": "stdout",
     "output_type": "stream",
     "text": [
      "Printing using print() function\n",
      " [{'Name': 'abhi', 'Age': '21', 'Residence': {'Country': 'India', 'City': 'New Delhi'}}, {'Name': 'nidhi', 'Age': '18', 'Residence': {'Country': 'Mexico', 'City': 'Mexico City'}}, {'Name': 'suraj', 'Age': '19', 'Residence': {'Country': 'Uk', 'City': 'England'}}, {'Name': 'deepu', 'Age': '20', 'Residence': {'Country': 'Nepal', 'City': 'Pokhra'}}]\n",
      "----------------------------------------------------------------------------------------------------\n",
      "Printing using pprint() funciton\n",
      "[{'Age': '21',\n",
      "  'Name': 'abhi',\n",
      "  'Residence': {'City': 'New Delhi', 'Country': 'India'}},\n",
      " {'Age': '18',\n",
      "  'Name': 'nidhi',\n",
      "  'Residence': {'City': 'Mexico City', 'Country': 'Mexico'}},\n",
      " {'Age': '19',\n",
      "  'Name': 'suraj',\n",
      "  'Residence': {'City': 'England', 'Country': 'Uk'}},\n",
      " {'Age': '20',\n",
      "  'Name': 'deepu',\n",
      "  'Residence': {'City': 'Pokhra', 'Country': 'Nepal'}}]\n",
      "----------------------------------------------------------------------------------------------------\n",
      "Printing using dumps() method\n",
      " [\n",
      "    {\n",
      "        \"Name\": \"abhi\",\n",
      "        \"Age\": \"21\",\n",
      "        \"Residence\": {\n",
      "            \"Country\": \"India\",\n",
      "            \"City\": \"New Delhi\"\n",
      "        }\n",
      "    },\n",
      "    {\n",
      "        \"Name\": \"nidhi\",\n",
      "        \"Age\": \"18\",\n",
      "        \"Residence\": {\n",
      "            \"Country\": \"Mexico\",\n",
      "            \"City\": \"Mexico City\"\n",
      "        }\n",
      "    },\n",
      "    {\n",
      "        \"Name\": \"suraj\",\n",
      "        \"Age\": \"19\",\n",
      "        \"Residence\": {\n",
      "            \"Country\": \"Uk\",\n",
      "            \"City\": \"England\"\n",
      "        }\n",
      "    },\n",
      "    {\n",
      "        \"Name\": \"deepu\",\n",
      "        \"Age\": \"20\",\n",
      "        \"Residence\": {\n",
      "            \"Country\": \"Nepal\",\n",
      "            \"City\": \"Pokhra\"\n",
      "        }\n",
      "    }\n",
      "]\n",
      "----------------------------------------------------------------------------------------------------\n"
     ]
    },
    {
     "data": {
      "text/plain": [
       "\"import yaml\\ndump = yaml.dump(ndict)\\nprint('Printing using dump() method\\n', dump)\""
      ]
     },
     "execution_count": 2,
     "metadata": {},
     "output_type": "execute_result"
    }
   ],
   "source": [
    "ndict = [\n",
    "  {'Name': 'abhi', 'Age': '21', 'Residence': {'Country':'India', 'City': 'New Delhi'}},\n",
    "  {'Name': 'nidhi', 'Age': '18', 'Residence': {'Country':'Mexico', 'City': 'Mexico City'}},\n",
    "  {'Name': 'suraj', 'Age': '19', 'Residence': {'Country':'Uk', 'City': 'England'}},\n",
    "  {'Name': 'deepu', 'Age': '20', 'Residence': {'Country':'Nepal', 'City': 'Pokhra'}}\n",
    "]\n",
    "\n",
    "print('Printing using print() function\\n',ndict)\n",
    "print('-'*100)\n",
    "import pprint\n",
    "print('Printing using pprint() funciton')\n",
    "pprint.pprint(ndict)\n",
    "print('-'*100)\n",
    "import json\n",
    "dump = json.dumps(ndict, indent=4)\n",
    "print('Printing using dumps() method\\n', dump)\n",
    "print('-'*100)\n",
    "'''import yaml\n",
    "dump = yaml.dump(ndict)\n",
    "print('Printing using dump() method\\n', dump)'''"
   ]
  },
  {
   "cell_type": "code",
   "execution_count": null,
   "metadata": {},
   "outputs": [],
   "source": []
  }
 ],
 "metadata": {
  "kernelspec": {
   "display_name": "Python 3",
   "language": "python",
   "name": "python3"
  },
  "language_info": {
   "codemirror_mode": {
    "name": "ipython",
    "version": 3
   },
   "file_extension": ".py",
   "mimetype": "text/x-python",
   "name": "python",
   "nbconvert_exporter": "python",
   "pygments_lexer": "ipython3",
   "version": "3.10.4 (tags/v3.10.4:9d38120, Mar 23 2022, 23:13:41) [MSC v.1929 64 bit (AMD64)]"
  },
  "orig_nbformat": 4,
  "vscode": {
   "interpreter": {
    "hash": "bf92db6f2337f11abcba9171892b7c48424dabaddd3d3e1178c0af076facd32f"
   }
  }
 },
 "nbformat": 4,
 "nbformat_minor": 2
}
