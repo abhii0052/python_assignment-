{
  "cells": [
    {
      "cell_type": "markdown",
      "metadata": {
        "id": "eMCLPs8dnSIg"
      },
      "source": [
        "Assignment 3"
      ]
    },
    {
      "cell_type": "markdown",
      "metadata": {
        "id": "FWBD2P8gnSIj"
      },
      "source": [
        "Q1. Why are functions advantageous to have in your programs?"
      ]
    },
    {
      "cell_type": "markdown",
      "metadata": {
        "id": "KK1AA0wbnSIk"
      },
      "source": [
        "Ans: Functions reduce the need for duplicate code.\n",
        "\n",
        ">> make programs shorter\n",
        "\n",
        ">> easy to read\n",
        "\n",
        ">> easy to update\n",
        "\n",
        ">> most important is  code Reusability."
      ]
    },
    {
      "cell_type": "markdown",
      "metadata": {
        "id": "a-_g5nH1nSIl"
      },
      "source": [
        "Q2. When does the code in a function run: when it's specified or when it's called?"
      ]
    },
    {
      "cell_type": "markdown",
      "metadata": {
        "id": "hczYwY3HnSIm"
      },
      "source": [
        "Ans: \n",
        "        The code in a function executes when the function is called, not when the function is specified"
      ]
    },
    {
      "cell_type": "markdown",
      "metadata": {
        "id": "cdWZsivNnSIn"
      },
      "source": [
        "Q3. What statement creates a function?\n"
      ]
    },
    {
      "cell_type": "markdown",
      "metadata": {
        "id": "Il7dNapInSIn"
      },
      "source": [
        "Ans: The def statement defines a function\n",
        "\n",
        "\n",
        "\n",
        "Syntax of Function:\n",
        "def function_name(parameters): \n",
        "\n",
        "\"\"\"doc string\"\"\" -----function body----- -----function body----- return value\n",
        "\n"
      ]
    },
    {
      "cell_type": "markdown",
      "metadata": {
        "id": "9jY2YT7unSIo"
      },
      "source": [
        "Q4. What is the difference between a function and a function call?\n"
      ]
    },
    {
      "cell_type": "markdown",
      "metadata": {
        "id": "zUvxhhRbnSIp"
      },
      "source": [
        "Ans: A function is procedure to achieve a particular result.\n",
        ">> while function call is using this function to achive that task.\n",
        ">> Using a function to do a particular task any point in program is called as function call.\n",
        "\n"
      ]
    },
    {
      "cell_type": "markdown",
      "metadata": {
        "id": "t92R8XbknSIq"
      },
      "source": [
        "Q5. How many global scopes are there in a Python program? How many local scopes?"
      ]
    },
    {
      "cell_type": "markdown",
      "metadata": {
        "id": "wMoUhpsfnSIq"
      },
      "source": [
        "Ans: \n",
        "        There is one global scope, and a local scope is created whenever a function is called"
      ]
    },
    {
      "cell_type": "markdown",
      "metadata": {
        "id": "dB4ENvJ6nSIr"
      },
      "source": [
        "Q6. What happens to variables in a local scope when the function call returns?\n"
      ]
    },
    {
      "cell_type": "markdown",
      "metadata": {
        "id": "-GN2bZ7NnSIs"
      },
      "source": [
        "Ans: When a function returns\n",
        "\n",
        ">> the local scope is destroyed\n",
        "\n",
        ">> & all the variables in it are forgotten"
      ]
    },
    {
      "cell_type": "markdown",
      "metadata": {
        "id": "jv3ZtVUNnSIs"
      },
      "source": [
        "Q7. What is the concept of a return value? Is it possible to have a return value in an expression?\n"
      ]
    },
    {
      "cell_type": "markdown",
      "metadata": {
        "id": "5e_TTWssnSIt"
      },
      "source": [
        "Ans:\n",
        "         A return value is the value that a function call evaluates to\n",
        "\n",
        ">> Like any value\n",
        "\n",
        ">> a return value can be used as part of an expression"
      ]
    },
    {
      "cell_type": "markdown",
      "metadata": {
        "id": "-aEOSB5lnSIt"
      },
      "source": [
        "\n",
        "Q8. If a function does not have a return statement, what is the return value of a call to that function?\n"
      ]
    },
    {
      "cell_type": "markdown",
      "metadata": {
        "id": "pXkAN99QnSIt"
      },
      "source": [
        "Ans:\n",
        "       If there is no return statement for a function, its return value is None"
      ]
    },
    {
      "cell_type": "markdown",
      "metadata": {
        "id": "asXDt952nSIu"
      },
      "source": [
        "Q9. How do you make a function variable refer to the global variable?\n"
      ]
    },
    {
      "cell_type": "markdown",
      "metadata": {
        "id": "M4jKaKPXnSIu"
      },
      "source": [
        "Ans:\n",
        "         A global statement will force a variable in a function to refer to the global variable. If you want to refer to a global variable in a function, you can use the global keyword to declare which variables are global.\n",
        "\n"
      ]
    },
    {
      "cell_type": "markdown",
      "metadata": {
        "id": "u2yCrY6hnSIv"
      },
      "source": [
        "Q10. What is the data type of None?\n"
      ]
    },
    {
      "cell_type": "markdown",
      "metadata": {
        "id": "nAuZCK9qnSIv"
      },
      "source": [
        "Ans: \n",
        "        The data type of None is NoneType.\n",
        "\n"
      ]
    },
    {
      "cell_type": "markdown",
      "metadata": {
        "id": "G-3ot_0qnSIv"
      },
      "source": [
        "Q11. What does the sentence import areallyourpetsnamederic do?\n"
      ]
    },
    {
      "cell_type": "markdown",
      "metadata": {
        "id": "N_k3GMehnSIv"
      },
      "source": [
        "Ans: \n",
        "        That import statement imports a module named areallyourpetsnamederic.\n",
        "\n"
      ]
    },
    {
      "cell_type": "markdown",
      "metadata": {
        "id": "94xheWu4nSIw"
      },
      "source": [
        "Q12. If you had a bacon() feature in a spam module, what would you call it after importing spam?\n"
      ]
    },
    {
      "cell_type": "markdown",
      "metadata": {
        "id": "e7sB3sDBnSIx"
      },
      "source": [
        "Ans: \n",
        "        This function can be called with spam.bacon().\n",
        "\n"
      ]
    },
    {
      "cell_type": "markdown",
      "metadata": {
        "id": "PzGjMgDHnSIx"
      },
      "source": [
        "Q13. What can you do to save a programme from crashing if it encounters an error?\n"
      ]
    },
    {
      "cell_type": "markdown",
      "metadata": {
        "id": "3gVpSozgnSIx"
      },
      "source": [
        "Ans: \n",
        "        Place the line of code that might cause an error in a try clause and use except block to handle the error.\n",
        "\n"
      ]
    },
    {
      "cell_type": "markdown",
      "metadata": {
        "id": "B7ULP0MZnSIx"
      },
      "source": [
        "Q14. What is the purpose of the try clause? What is the purpose of the except clause?\n"
      ]
    },
    {
      "cell_type": "markdown",
      "metadata": {
        "id": "HgzuZLt6nSIy"
      },
      "source": [
        "Ans: \n",
        "        The code that could potentially cause an error goes in the try clause. The code that executes if an error happens goes in the except clause."
      ]
    }
  ],
  "metadata": {
    "kernelspec": {
      "display_name": "Python 3",
      "language": "python",
      "name": "python3"
    },
    "language_info": {
      "name": "python",
      "version": "3.10.4 (tags/v3.10.4:9d38120, Mar 23 2022, 23:13:41) [MSC v.1929 64 bit (AMD64)]"
    },
    "orig_nbformat": 4,
    "vscode": {
      "interpreter": {
        "hash": "bf92db6f2337f11abcba9171892b7c48424dabaddd3d3e1178c0af076facd32f"
      }
    },
    "colab": {
      "provenance": []
    }
  },
  "nbformat": 4,
  "nbformat_minor": 0
}