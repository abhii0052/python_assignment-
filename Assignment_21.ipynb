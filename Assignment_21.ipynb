{
 "cells": [
  {
   "attachments": {},
   "cell_type": "markdown",
   "id": "984b4513",
   "metadata": {},
   "source": [
    "# Assignment 21 Solutions"
   ]
  },
  {
   "attachments": {},
   "cell_type": "markdown",
   "id": "4fe8b19e",
   "metadata": {},
   "source": [
    "#### 1. Add the current date to the text file today.txt as a string."
   ]
  },
  {
   "cell_type": "code",
   "execution_count": 1,
   "id": "4c5ad5ac",
   "metadata": {},
   "outputs": [
    {
     "name": "stdout",
     "output_type": "stream",
     "text": [
      "19-05-2023\n"
     ]
    }
   ],
   "source": [
    "import datetime\n",
    "# Code to Add current date to the today.txt file\n",
    "file = open('today.txt','w')\n",
    "file.write(datetime.datetime.now().strftime(\"%d-%m-%Y\"))\n",
    "file.close()\n",
    "# Code to Read current date from today.txt file\n",
    "file = open('today.txt','r')\n",
    "print(file.read())\n",
    "file.close()"
   ]
  },
  {
   "attachments": {},
   "cell_type": "markdown",
   "id": "6cf23762",
   "metadata": {},
   "source": [
    "#### 2. Read the text file today.txt into the string today_string"
   ]
  },
  {
   "cell_type": "code",
   "execution_count": 2,
   "id": "107143ea",
   "metadata": {},
   "outputs": [
    {
     "name": "stdout",
     "output_type": "stream",
     "text": [
      "19-05-2023\n"
     ]
    }
   ],
   "source": [
    "file = open('today.txt','r')\n",
    "today_string = file.read()\n",
    "print(today_string)"
   ]
  },
  {
   "attachments": {},
   "cell_type": "markdown",
   "id": "165addb6",
   "metadata": {},
   "source": [
    "#### 3. Parse the date from today_string."
   ]
  },
  {
   "cell_type": "code",
   "execution_count": 4,
   "id": "c622da5b",
   "metadata": {},
   "outputs": [
    {
     "name": "stdout",
     "output_type": "stream",
     "text": [
      "2023-05-19 00:00:00\n"
     ]
    }
   ],
   "source": [
    "from datetime import datetime\n",
    "data = datetime.strptime(today_string, '%d-%m-%Y')\n",
    "print(data)"
   ]
  },
  {
   "attachments": {},
   "cell_type": "markdown",
   "id": "664d3278",
   "metadata": {},
   "source": [
    "#### 4. List the files in your current directory"
   ]
  },
  {
   "cell_type": "code",
   "execution_count": 5,
   "id": "cbacd0e4",
   "metadata": {},
   "outputs": [
    {
     "name": "stdout",
     "output_type": "stream",
     "text": [
      "12th.jpg\n",
      "2022-05-27_2867.pdf\n",
      "2023-02-21_3708.pdf\n",
      "2023032020.pdf\n",
      "21.Assignment_21.ipynb\n",
      "23031900388131CNRB_ChallanReceipt (1).pdf\n",
      "23031900388131CNRB_ChallanReceipt.pdf\n",
      "600 Machine Learning DL NLP CV projects.pdf\n",
      "ABHISHEK'Resume'New.pdf\n",
      "Admit Card.pdf\n",
      "airforce 2022.pdf\n",
      "airforce AA2022.pdf\n",
      "airline.xls\n",
      "Anaconda3-2022.10-Windows-x86_64.exe\n",
      "Application-SSRM22124146706N (1).pdf\n",
      "Application-SSRM22124146706N.pdf\n",
      "Application-SSRM22124300097N.pdf\n",
      "ApplicationFormDraftPrintForAll DELHI POLICE.pdf\n",
      "Assignment_01.ipynb\n",
      "assignment_03_.ipynb\n",
      "assignment_04_.ipynb\n",
      "Assignment_10.docx\n",
      "Assignment_3.docx\n",
      "assignment_3.ipynb\n",
      "Assignment_4.docx\n",
      "Assignment_5.docx\n",
      "Assignment_6.docx\n",
      "Assignment_7.docx\n",
      "Assignment_8.docx\n",
      "Assignment_9 (1).docx\n",
      "cds 2.pdf\n",
      "CGL 2002 APPLICATION.pdf\n",
      "CHSL ADMIT CARD.pdf\n",
      "COM-InsertingAndFormattingText.xlsm\n",
      "desktop.ini\n",
      "Doctor.G.2022.1080p.NF.WEB-DL.DDP5.1.HDR.HEVC-[Vegamovies.to] Telly.mkv\n",
      "DOMICIAL.pdf\n",
      "domicile_doc_1634989087_250377.pdf\n",
      "Farzi S01E01 Hindi 720p WEB-DL ESub HdMovizflix.wiki.mkv\n",
      "Farzi S01E02 Hindi 720p WEB-DL ESub HdMovizflix.wiki.mkv\n",
      "Farzi S01E03 Hindi 720p WEB-DL ESub HdMovizflix.wiki.mkv\n",
      "Farzi S01E04 Hindi 720p WEB-DL ESub HdMovizflix.wiki.mkv\n",
      "Farzi S01E05 Hindi 720p WEB-DL ESub HdMovizflix.wiki.mkv\n",
      "Farzi S01E06 Hindi 720p WEB-DL ESub HdMovizflix.wiki.mkv\n",
      "Farzi S01E07 Hindi 720p WEB-DL ESub HdMovizflix.wiki.mkv\n",
      "Farzi S01E08 Hindi 720p WEB-DL ESub HdMovizflix.wiki.mkv\n",
      "Flames S03 E03 WebRip 720p Hindi AAC 5.1 x264 ESub - Vegamovies.to.mkv\n",
      "Flames.S03E01.Baahon.Mein.Chale.Aao.720p.AMZN.WEB-DL.Hindi.AAC2.0.H.264-Vegamovies.to.mkv\n",
      "Flames.S03E02.Chupana.bhi.nahi.aata.jatana.bhi.nahi.aata.720p.AMZN.WEB-DL.Hindi.AAC2.0.H.264-Vegamovies.to.mkv\n",
      "Flames.S03E04.Khoya.Khoya.Chand.720p.AMZN.WEB-DL.Hindi.AAC2.0.H.264-Vegamovies.to.mkv\n",
      "Flames.S03E05.Kuch.Tum.Kaho.Kuch.Hum.Kahein.720p.AMZN.WEB-DL.Hindi.AAC2.0.H.264-Vegamovies.to.mkv\n",
      "Git-2.37.3-64-bit.exe\n",
      "hmmmmmmmm.pdf\n",
      "iGenetics,_A_Molecular_Approach,_Peter_Russell_Pearson,_2014.pdf\n",
      "Image airforce.jpeg\n",
      "IMG_20220603_115651_1_70_1_60_27.jpg\n",
      "IMG_20220718_214106_12.jpg\n",
      "IMG_20220718_214106_1_36.jpg\n",
      "IMG_20220718_214106_1_36_49.jpg\n",
      "IMG_20220718_231521.jpg\n",
      "InsertingAndFormattingText.xlsx\n",
      "Install VALORANT.exe\n",
      "j p 10th.jpeg\n",
      "j p 12th.jpeg\n",
      "j p aadhar.jpeg\n",
      "j p nmkm.jpeg\n",
      "j p sign.jpeg\n",
      "John.Wick.Chapter.4.2023.V2.1080p.HQ.CAMRip.V2.Hindi.themoviezflix.com.mkv\n",
      "MANNI BETA.pdf\n",
      "mmmmmmm.pdf\n",
      "MO2207CDH362XXA5113.pdf\n",
      "Monika's RESUME.docx\n",
      "Monika's RESUME.pdf\n",
      "MoviesNation.de-Alice.in.Borderland.S01E01.720p.WEBRip.x264.Dual.Audio.Hindi.English.MSubs.mkv\n",
      "MoviesNation.de-Alice.in.Borderland.S01E02.720p.WEBRip.x264.Dual.Audio.Hindi.English.MSubs.mkv\n",
      "MoviesNation.de-Alice.in.Borderland.S01E03.720p.WEBRip.x264.Dual.Audio.Hindi.English.MSubs.mkv\n",
      "MoviesNation.de-Alice.in.Borderland.S01E04.720p.WEBRip.x264.Dual.Audio.Hindi.English.MSubs.mkv\n",
      "MoviesNation.de-Alice.in.Borderland.S01E05.720p.WEBRip.x264.Dual.Audio.Hindi.English.MSubs.mkv\n",
      "MoviesNation.de-Alice.in.Borderland.S01E06.720p.WEBRip.x264.Dual.Audio.Hindi.English.MSubs.mkv\n",
      "MoviesNation.de-Alice.in.Borderland.S01E07.720p.WEBRip.x264.Dual.Audio.Hindi.English.MSubs.mkv\n",
      "MoviesNation.de-Alice.in.Borderland.S01E08.720p.WEBRip.x264.Dual.Audio.Hindi.English.MSubs.mkv\n",
      "Moviesnation.de-Alice.In.Borderland.S02E01.720p.x264.Hindi.English.Japanese.Msubs.mkv\n",
      "Moviesnation.de-Alice.In.Borderland.S02E02.720p.x264.Hindi.English.Japanese.Msubs.mkv\n",
      "Moviesnation.de-Alice.In.Borderland.S02E03.720p.x264.Hindi.English.Japanese.Msubs.mkv\n",
      "Moviesnation.de-Alice.In.Borderland.S02E04.720p.x264.Hindi.English.Japanese.Msubs.mkv\n",
      "Moviesnation.de-Alice.In.Borderland.S02E05.720p.x264.Hindi.English.Japanese.Msubs.mkv\n",
      "Moviesnation.de-Alice.In.Borderland.S02E06.720p.x264.Hindi.English.Japanese.Msubs.mkv\n",
      "Moviesnation.de-Alice.In.Borderland.S02E07.720p.x264.Hindi.English.Japanese.Msubs.mkv\n",
      "Moviesnation.de-Alice.In.Borderland.S02E08.720p.x264.Hindi.English.Japanese.Msubs.mkv\n",
      "Moviesnation.in- Baki Ep 11 720p Dual Audio.mkv\n",
      "Moviesnation.in- Baki Ep 12 720p Dual Audio.mkv\n",
      "Moviesnation.in- Baki Ep 13 720p Dual Audio.mkv\n",
      "Moviesnation.nl-After.Ever.Happy.2022.1080p.x264.Esub.mkv\n",
      "MoviesNation.org-Dark.Desire.S01E01.720p.x265.10bit.WEBRip.Dual.Audio.Hindi.Spanish.MSubs.mkv\n",
      "MoviesNation.org-Dark.Desire.S01E02.720p.x265.10bit.WEBRip.Dual.Audio.Hindi.Spanish.MSubs.mkv\n",
      "MoviesNation.org-Dark.Desire.S01E03.720p.x265.10bit.WEBRip.Dual.Audio.Hindi.Spanish.MSubs.mkv\n",
      "MoviesNation.org-Dark.Desire.S01E04.720p.x265.10bit.WEBRip.Dual.Audio.Hindi.Spanish.MSubs.mkv\n",
      "MoviesNation.org-Dark.Desire.S01E05.720p.x265.10bit.WEBRip.Dual.Audio.Hindi.Spanish.MSubs.mkv\n",
      "MoviesNation.org-Dark.Desire.S01E06.720p.x265.10bit.WEBRip.Dual.Audio.Hindi.Spanish.MSubs.mkv\n",
      "MoviesNation.org-Dark.Desire.S01E07.720p.x265.10bit.WEBRip.Dual.Audio.Hindi.Spanish.MSubs.mkv\n",
      "MoviesNation.org-Dark.Desire.S01E08.720p.x265.10bit.WEBRip.Dual.Audio.Hindi.Spanish.MSubs.mkv\n",
      "MoviesNation.org-Dark.Desire.S01E10.720p.x265.10bit.WEBRip.Dual.Audio.Hindi.Spanish.MSubs.mkv\n",
      "MoviesNation.org-Dark.Desire.S01E11.720p.x265.10bit.WEBRip.Dual.Audio.Hindi.Spanish.MSubs.mkv\n",
      "MoviesNation.org-Dark.Desire.S01E12.720p.x265.10bit.WEBRip.Dual.Audio.Hindi.Spanish.MSubs.mkv\n",
      "MoviesNation.org-Dark.Desire.S01E14.720p.x265.10bit.WEBRip.Dual.Audio.Hindi.Spanish.MSubs.mkv\n",
      "MoviesNation.org-Dark.Desire.S01E15.720p.x265.10bit.WEBRip.Dual.Audio.Hindi.Spanish.MSubs.mkv\n",
      "MoviesNation.org-Dark.Desire.S01E16.720p.x265.10bit.WEBRip.Dual.Audio.Hindi.Spanish.MSubs.mkv\n",
      "MoviesNation.org-Dark.Desire.S01E17.720p.x265.10bit.WEBRip.Dual.Audio.Hindi.Spanish.MSubs.mkv\n",
      "MoviesNation.org-Dark.Desire.S01E18.720p.x265.10bit.WEBRip.Dual.Audio.Hindi.Spanish.MSubs.mkv\n",
      "MoviesNation.pw-Knowing.2009.1080p.BluRay.x265.10bit.Dual.Audio.Hindi.English.ESubs.mkv\n",
      "mutation and mutagen kshama  123455.pptx\n",
      "mutation and mutagen kshama.pptx\n",
      "mysql-installer-community-8.0.32.0.msi\n",
      "NorthwindDB-IMPORT.zip\n",
      "OMEN x NARAKA 02.jpg\n",
      "passport_picture_1658167155_2988.jpg\n",
      "photo_2022-07-29_11-00-02.jpg\n",
      "photo_2022-07-29_11-00-02_21.jpg\n",
      "photo_2022-07-29_11-00-11.jpg\n",
      "photo_2022-07-29_11-00-11jj.jpg\n",
      "POA - Tracker (1) (1).xlsx\n",
      "Postman-win64-Setup.exe\n",
      "pycharm-community-2022.2.1.exe\n",
      "python-3.10.4-amd64.exe\n",
      "Python-task-01-main (1).zip\n",
      "Python-task-01-main.zip\n",
      "questions.ipynb\n",
      "SalesData-TEXT-IMPORT.txt\n",
      "signature_1634989087_468852.jpg\n",
      "signature_1658165698_631546.jpg\n",
      "sign_2_49.jpg\n",
      "SteamSetup.exe\n",
      "SYLLABUS_AGNIVEERS_SSR.pdf\n",
      "TARUN.pdf\n",
      "thumb print2.jpeg\n",
      "thumb print23.jpeg\n",
      "today.txt\n",
      "tsetup-x64.4.0.0.exe\n",
      "twelve_marksheet_1635060476_721543.pdf\n",
      "Vscode and mysql connectivity setup on local machine.docx\n",
      "VSCodeUserSetup-x64-1.66.1.exe\n",
      "VSCodeUserSetup-x64-1.76.1.exe\n",
      "WhatsApp Image 2022-07-22 at 9.56.45 PM.jpeg\n",
      "WhatsApp_Image_2022-07-22_at_9.56.45_PM_1_87.jpeg\n",
      "WhatsApp_Image_2022-07-22_at_9.56.45_PM_87.jpeg\n",
      "wp10453658-rocket-raccoon-and-groot-desktop-wallpapers.jpg\n",
      "wp10835928-little-groot-wallpapers.jpg\n",
      "wp1809893-one-punch-man-wallpapers.jpg\n",
      "wp1809903-one-punch-man-wallpapers.jpg\n",
      "wp1809904-one-punch-man-wallpapers.jpg\n",
      "wp1809905-one-punch-man-wallpapers.png\n",
      "wp1809909-one-punch-man-wallpapers.jpg\n",
      "wp1809915-one-punch-man-wallpapers.png\n",
      "wp1809917-one-punch-man-wallpapers.png\n",
      "wp4916290-little-groot-wallpapers.jpg\n",
      "wp6695717-saitama-phone-wallpapers.jpg\n",
      "wp8459973-tvd-quotes-wallpapers.jpg\n",
      "wp8460136-tvd-quotes-wallpapers.jpg\n",
      "wp8876377-saitama-phone-wallpapers.png\n",
      "wp9111348-saitama-goku-naruto-wallpapers.jpg\n",
      "[Moviesnation.co.in] Shingeki no Kyojin S1 Ep 01 720p BD Dual Audio HEVC.mkv\n",
      "[Moviesnation.co.in] Shingeki no Kyojin S1 Ep 02 720p BD Dual Audio HEVC.mkv\n",
      "[Moviesnation.co.in] Shingeki no Kyojin S1 Ep 03 720p BD Dual Audio HEVC.mkv\n",
      "[Moviesnation.co.in] Shingeki no Kyojin S1 Ep 04 720p BD Dual Audio HEVC.mkv\n",
      "[Moviesnation.co.in] Shingeki no Kyojin S1 Ep 05 720p BD Dual Audio HEVC.mkv\n",
      "[Moviesnation.co.in] Shingeki no Kyojin S1 Ep 06 720p BD Dual Audio HEVC.mkv\n",
      "[Moviesnation.co.in] Shingeki no Kyojin S1 Ep 07 720p BD Dual Audio HEVC.mkv\n",
      "[Moviesnation.co.in] Shingeki no Kyojin S1 Ep 08 720p BD Dual Audio HEVC.mkv\n",
      "[Moviesnation.co.in] Shingeki no Kyojin S1 Ep 09 720p BD Dual Audio HEVC.mkv\n",
      "[Moviesnation.co.in] Shingeki no Kyojin S1 Ep 10 720p BD Dual Audio HEVC.mkv\n",
      "[MoviesNation.co.in]_Dark.S02E01.720p.NF.WEB-DL.Dual-Audio.x264.mkv\n",
      "[MoviesNation.co.in]_Dark.S02E02.720p.NF.WEB-DL.Dual-Audio.x264.mkv\n",
      "[MoviesNation.co.in]_Dark.S02E03.720p.NF.WEB-DL.Dual-Audio.x264.mkv\n",
      "[MoviesNation.co.in]_Dark.S02E04.720p.NF.WEB-DL.Dual-Audio.x264.mkv\n",
      "[MoviesNation.co.in]_Dark.S02E05.720p.NF.WEB-DL.Dual-Audio.x264.mkv\n",
      "[MoviesNation.co.in]_Dark.S02E06.720p.NF.WEB-DL.Dual-Audio.x264.mkv\n",
      "[MoviesNation.co.in]_Dark.S02E07.720p.NF.WEB-DL.Dual-Audio.x264.mkv\n",
      "[MoviesNation.co.in]_Dark.S02E08.720p.NF.WEB-DL.Dual-Audio.x264.mkv\n",
      "~$COM-InsertingAndFormattingText.xlsm\n",
      "JavaScript Chapter 0 - Intro to Programming .pdf\n",
      "JavaScript Chapter 1 - Variables and Data.pdf\n",
      "Chapter 2 PS.pdf\n",
      "Chapter 2.pdf\n",
      "NorthwindDB-IMPORT.accdb\n",
      "DOC-20230325-WA0013..pdf\n",
      "DOC-20230325-WA0013._\n",
      "DOC-20230325-WA0014..pdf\n",
      "DOC-20230325-WA0014._\n"
     ]
    }
   ],
   "source": [
    "import os\n",
    "for folders, subfolders, files in os.walk(os.getcwd()):\n",
    "    for file in files:\n",
    "        print(file)"
   ]
  },
  {
   "attachments": {},
   "cell_type": "markdown",
   "id": "291a203b",
   "metadata": {},
   "source": [
    "#### 5. Create a list of all of the files in your parent directory (minimum five files should be available)."
   ]
  },
  {
   "cell_type": "code",
   "execution_count": 6,
   "id": "efe9618b",
   "metadata": {},
   "outputs": [
    {
     "data": {
      "text/plain": [
       "['12th.jpg',\n",
       " '2022-05-27_2867.pdf',\n",
       " '2023-02-21_3708.pdf',\n",
       " '2023032020.pdf',\n",
       " '21.Assignment_21.ipynb',\n",
       " '23031900388131CNRB_ChallanReceipt (1).pdf',\n",
       " '23031900388131CNRB_ChallanReceipt.pdf',\n",
       " '600 Machine Learning DL NLP CV projects.pdf',\n",
       " \"ABHISHEK'Resume'New.pdf\",\n",
       " 'Admit Card.pdf',\n",
       " 'airforce 2022.pdf',\n",
       " 'airforce AA2022.pdf',\n",
       " 'airline.xls',\n",
       " 'Anaconda3-2022.10-Windows-x86_64.exe',\n",
       " 'Application-SSRM22124146706N (1).pdf',\n",
       " 'Application-SSRM22124146706N.pdf',\n",
       " 'Application-SSRM22124300097N.pdf',\n",
       " 'ApplicationFormDraftPrintForAll DELHI POLICE.pdf',\n",
       " 'Assignment_01.ipynb',\n",
       " 'assignment_03_.ipynb',\n",
       " 'assignment_04_.ipynb',\n",
       " 'Assignment_10.docx',\n",
       " 'Assignment_3.docx',\n",
       " 'assignment_3.ipynb',\n",
       " 'Assignment_4.docx',\n",
       " 'Assignment_5.docx',\n",
       " 'Assignment_6.docx',\n",
       " 'Assignment_7.docx',\n",
       " 'Assignment_8.docx',\n",
       " 'Assignment_9 (1).docx',\n",
       " 'cds 2.pdf',\n",
       " 'CGL 2002 APPLICATION.pdf',\n",
       " 'CHSL ADMIT CARD.pdf',\n",
       " 'COM-InsertingAndFormattingText.xlsm',\n",
       " 'desktop.ini',\n",
       " 'Doctor.G.2022.1080p.NF.WEB-DL.DDP5.1.HDR.HEVC-[Vegamovies.to] Telly.mkv',\n",
       " 'DOMICIAL.pdf',\n",
       " 'domicile_doc_1634989087_250377.pdf',\n",
       " 'Farzi S01E01 Hindi 720p WEB-DL ESub HdMovizflix.wiki.mkv',\n",
       " 'Farzi S01E02 Hindi 720p WEB-DL ESub HdMovizflix.wiki.mkv',\n",
       " 'Farzi S01E03 Hindi 720p WEB-DL ESub HdMovizflix.wiki.mkv',\n",
       " 'Farzi S01E04 Hindi 720p WEB-DL ESub HdMovizflix.wiki.mkv',\n",
       " 'Farzi S01E05 Hindi 720p WEB-DL ESub HdMovizflix.wiki.mkv',\n",
       " 'Farzi S01E06 Hindi 720p WEB-DL ESub HdMovizflix.wiki.mkv',\n",
       " 'Farzi S01E07 Hindi 720p WEB-DL ESub HdMovizflix.wiki.mkv',\n",
       " 'Farzi S01E08 Hindi 720p WEB-DL ESub HdMovizflix.wiki.mkv',\n",
       " 'Flames S03 E03 WebRip 720p Hindi AAC 5.1 x264 ESub - Vegamovies.to.mkv',\n",
       " 'Flames.S03E01.Baahon.Mein.Chale.Aao.720p.AMZN.WEB-DL.Hindi.AAC2.0.H.264-Vegamovies.to.mkv',\n",
       " 'Flames.S03E02.Chupana.bhi.nahi.aata.jatana.bhi.nahi.aata.720p.AMZN.WEB-DL.Hindi.AAC2.0.H.264-Vegamovies.to.mkv',\n",
       " 'Flames.S03E04.Khoya.Khoya.Chand.720p.AMZN.WEB-DL.Hindi.AAC2.0.H.264-Vegamovies.to.mkv',\n",
       " 'Flames.S03E05.Kuch.Tum.Kaho.Kuch.Hum.Kahein.720p.AMZN.WEB-DL.Hindi.AAC2.0.H.264-Vegamovies.to.mkv',\n",
       " 'Git-2.37.3-64-bit.exe',\n",
       " 'hmmmmmmmm.pdf',\n",
       " 'iGenetics,_A_Molecular_Approach,_Peter_Russell_Pearson,_2014.pdf',\n",
       " 'Image airforce.jpeg',\n",
       " 'IMG_20220603_115651_1_70_1_60_27.jpg',\n",
       " 'IMG_20220718_214106_12.jpg',\n",
       " 'IMG_20220718_214106_1_36.jpg',\n",
       " 'IMG_20220718_214106_1_36_49.jpg',\n",
       " 'IMG_20220718_231521.jpg',\n",
       " 'InsertingAndFormattingText.xlsx',\n",
       " 'Install VALORANT.exe',\n",
       " 'j p 10th.jpeg',\n",
       " 'j p 12th.jpeg',\n",
       " 'j p aadhar.jpeg',\n",
       " 'j p nmkm.jpeg',\n",
       " 'j p sign.jpeg',\n",
       " 'java Script course notes',\n",
       " 'John.Wick.Chapter.4.2023.V2.1080p.HQ.CAMRip.V2.Hindi.themoviezflix.com.mkv',\n",
       " 'MANNI BETA.pdf',\n",
       " 'mmmmmmm.pdf',\n",
       " 'MO2207CDH362XXA5113.pdf',\n",
       " \"Monika's RESUME.docx\",\n",
       " \"Monika's RESUME.pdf\",\n",
       " 'MoviesNation.de-Alice.in.Borderland.S01E01.720p.WEBRip.x264.Dual.Audio.Hindi.English.MSubs.mkv',\n",
       " 'MoviesNation.de-Alice.in.Borderland.S01E02.720p.WEBRip.x264.Dual.Audio.Hindi.English.MSubs.mkv',\n",
       " 'MoviesNation.de-Alice.in.Borderland.S01E03.720p.WEBRip.x264.Dual.Audio.Hindi.English.MSubs.mkv',\n",
       " 'MoviesNation.de-Alice.in.Borderland.S01E04.720p.WEBRip.x264.Dual.Audio.Hindi.English.MSubs.mkv',\n",
       " 'MoviesNation.de-Alice.in.Borderland.S01E05.720p.WEBRip.x264.Dual.Audio.Hindi.English.MSubs.mkv',\n",
       " 'MoviesNation.de-Alice.in.Borderland.S01E06.720p.WEBRip.x264.Dual.Audio.Hindi.English.MSubs.mkv',\n",
       " 'MoviesNation.de-Alice.in.Borderland.S01E07.720p.WEBRip.x264.Dual.Audio.Hindi.English.MSubs.mkv',\n",
       " 'MoviesNation.de-Alice.in.Borderland.S01E08.720p.WEBRip.x264.Dual.Audio.Hindi.English.MSubs.mkv',\n",
       " 'Moviesnation.de-Alice.In.Borderland.S02E01.720p.x264.Hindi.English.Japanese.Msubs.mkv',\n",
       " 'Moviesnation.de-Alice.In.Borderland.S02E02.720p.x264.Hindi.English.Japanese.Msubs.mkv',\n",
       " 'Moviesnation.de-Alice.In.Borderland.S02E03.720p.x264.Hindi.English.Japanese.Msubs.mkv',\n",
       " 'Moviesnation.de-Alice.In.Borderland.S02E04.720p.x264.Hindi.English.Japanese.Msubs.mkv',\n",
       " 'Moviesnation.de-Alice.In.Borderland.S02E05.720p.x264.Hindi.English.Japanese.Msubs.mkv',\n",
       " 'Moviesnation.de-Alice.In.Borderland.S02E06.720p.x264.Hindi.English.Japanese.Msubs.mkv',\n",
       " 'Moviesnation.de-Alice.In.Borderland.S02E07.720p.x264.Hindi.English.Japanese.Msubs.mkv',\n",
       " 'Moviesnation.de-Alice.In.Borderland.S02E08.720p.x264.Hindi.English.Japanese.Msubs.mkv',\n",
       " 'Moviesnation.in- Baki Ep 11 720p Dual Audio.mkv',\n",
       " 'Moviesnation.in- Baki Ep 12 720p Dual Audio.mkv',\n",
       " 'Moviesnation.in- Baki Ep 13 720p Dual Audio.mkv',\n",
       " 'Moviesnation.nl-After.Ever.Happy.2022.1080p.x264.Esub.mkv',\n",
       " 'MoviesNation.org-Dark.Desire.S01E01.720p.x265.10bit.WEBRip.Dual.Audio.Hindi.Spanish.MSubs.mkv',\n",
       " 'MoviesNation.org-Dark.Desire.S01E02.720p.x265.10bit.WEBRip.Dual.Audio.Hindi.Spanish.MSubs.mkv',\n",
       " 'MoviesNation.org-Dark.Desire.S01E03.720p.x265.10bit.WEBRip.Dual.Audio.Hindi.Spanish.MSubs.mkv',\n",
       " 'MoviesNation.org-Dark.Desire.S01E04.720p.x265.10bit.WEBRip.Dual.Audio.Hindi.Spanish.MSubs.mkv',\n",
       " 'MoviesNation.org-Dark.Desire.S01E05.720p.x265.10bit.WEBRip.Dual.Audio.Hindi.Spanish.MSubs.mkv',\n",
       " 'MoviesNation.org-Dark.Desire.S01E06.720p.x265.10bit.WEBRip.Dual.Audio.Hindi.Spanish.MSubs.mkv',\n",
       " 'MoviesNation.org-Dark.Desire.S01E07.720p.x265.10bit.WEBRip.Dual.Audio.Hindi.Spanish.MSubs.mkv',\n",
       " 'MoviesNation.org-Dark.Desire.S01E08.720p.x265.10bit.WEBRip.Dual.Audio.Hindi.Spanish.MSubs.mkv',\n",
       " 'MoviesNation.org-Dark.Desire.S01E10.720p.x265.10bit.WEBRip.Dual.Audio.Hindi.Spanish.MSubs.mkv',\n",
       " 'MoviesNation.org-Dark.Desire.S01E11.720p.x265.10bit.WEBRip.Dual.Audio.Hindi.Spanish.MSubs.mkv',\n",
       " 'MoviesNation.org-Dark.Desire.S01E12.720p.x265.10bit.WEBRip.Dual.Audio.Hindi.Spanish.MSubs.mkv',\n",
       " 'MoviesNation.org-Dark.Desire.S01E14.720p.x265.10bit.WEBRip.Dual.Audio.Hindi.Spanish.MSubs.mkv',\n",
       " 'MoviesNation.org-Dark.Desire.S01E15.720p.x265.10bit.WEBRip.Dual.Audio.Hindi.Spanish.MSubs.mkv',\n",
       " 'MoviesNation.org-Dark.Desire.S01E16.720p.x265.10bit.WEBRip.Dual.Audio.Hindi.Spanish.MSubs.mkv',\n",
       " 'MoviesNation.org-Dark.Desire.S01E17.720p.x265.10bit.WEBRip.Dual.Audio.Hindi.Spanish.MSubs.mkv',\n",
       " 'MoviesNation.org-Dark.Desire.S01E18.720p.x265.10bit.WEBRip.Dual.Audio.Hindi.Spanish.MSubs.mkv',\n",
       " 'MoviesNation.pw-Knowing.2009.1080p.BluRay.x265.10bit.Dual.Audio.Hindi.English.ESubs.mkv',\n",
       " 'mutation and mutagen kshama  123455.pptx',\n",
       " 'mutation and mutagen kshama.pptx',\n",
       " 'mysql-installer-community-8.0.32.0.msi',\n",
       " 'NorthwindDB-IMPORT',\n",
       " 'NorthwindDB-IMPORT.zip',\n",
       " 'OMEN x NARAKA 02.jpg',\n",
       " 'passport_picture_1658167155_2988.jpg',\n",
       " 'photo_2022-07-29_11-00-02.jpg',\n",
       " 'photo_2022-07-29_11-00-02_21.jpg',\n",
       " 'photo_2022-07-29_11-00-11.jpg',\n",
       " 'photo_2022-07-29_11-00-11jj.jpg',\n",
       " 'POA - Tracker (1) (1).xlsx',\n",
       " 'Postman-win64-Setup.exe',\n",
       " 'pycharm-community-2022.2.1.exe',\n",
       " 'python-3.10.4-amd64.exe',\n",
       " 'Python-task-01-main (1).zip',\n",
       " 'Python-task-01-main.zip',\n",
       " 'questions.ipynb',\n",
       " 'SalesData-TEXT-IMPORT.txt',\n",
       " 'signature_1634989087_468852.jpg',\n",
       " 'signature_1658165698_631546.jpg',\n",
       " 'sign_2_49.jpg',\n",
       " 'SteamSetup.exe',\n",
       " 'SYLLABUS_AGNIVEERS_SSR.pdf',\n",
       " 'TARUN.pdf',\n",
       " 'Telegram Desktop',\n",
       " 'thumb print2.jpeg',\n",
       " 'thumb print23.jpeg',\n",
       " 'today.txt',\n",
       " 'tsetup-x64.4.0.0.exe',\n",
       " 'twelve_marksheet_1635060476_721543.pdf',\n",
       " 'Vscode and mysql connectivity setup on local machine.docx',\n",
       " 'VSCodeUserSetup-x64-1.66.1.exe',\n",
       " 'VSCodeUserSetup-x64-1.76.1.exe',\n",
       " 'WhatsApp Image 2022-07-22 at 9.56.45 PM.jpeg',\n",
       " 'WhatsApp_Image_2022-07-22_at_9.56.45_PM_1_87.jpeg',\n",
       " 'WhatsApp_Image_2022-07-22_at_9.56.45_PM_87.jpeg',\n",
       " 'wp10453658-rocket-raccoon-and-groot-desktop-wallpapers.jpg',\n",
       " 'wp10835928-little-groot-wallpapers.jpg',\n",
       " 'wp1809893-one-punch-man-wallpapers.jpg',\n",
       " 'wp1809903-one-punch-man-wallpapers.jpg',\n",
       " 'wp1809904-one-punch-man-wallpapers.jpg',\n",
       " 'wp1809905-one-punch-man-wallpapers.png',\n",
       " 'wp1809909-one-punch-man-wallpapers.jpg',\n",
       " 'wp1809915-one-punch-man-wallpapers.png',\n",
       " 'wp1809917-one-punch-man-wallpapers.png',\n",
       " 'wp4916290-little-groot-wallpapers.jpg',\n",
       " 'wp6695717-saitama-phone-wallpapers.jpg',\n",
       " 'wp8459973-tvd-quotes-wallpapers.jpg',\n",
       " 'wp8460136-tvd-quotes-wallpapers.jpg',\n",
       " 'wp8876377-saitama-phone-wallpapers.png',\n",
       " 'wp9111348-saitama-goku-naruto-wallpapers.jpg',\n",
       " '[Moviesnation.co.in] Shingeki no Kyojin S1 Ep 01 720p BD Dual Audio HEVC.mkv',\n",
       " '[Moviesnation.co.in] Shingeki no Kyojin S1 Ep 02 720p BD Dual Audio HEVC.mkv',\n",
       " '[Moviesnation.co.in] Shingeki no Kyojin S1 Ep 03 720p BD Dual Audio HEVC.mkv',\n",
       " '[Moviesnation.co.in] Shingeki no Kyojin S1 Ep 04 720p BD Dual Audio HEVC.mkv',\n",
       " '[Moviesnation.co.in] Shingeki no Kyojin S1 Ep 05 720p BD Dual Audio HEVC.mkv',\n",
       " '[Moviesnation.co.in] Shingeki no Kyojin S1 Ep 06 720p BD Dual Audio HEVC.mkv',\n",
       " '[Moviesnation.co.in] Shingeki no Kyojin S1 Ep 07 720p BD Dual Audio HEVC.mkv',\n",
       " '[Moviesnation.co.in] Shingeki no Kyojin S1 Ep 08 720p BD Dual Audio HEVC.mkv',\n",
       " '[Moviesnation.co.in] Shingeki no Kyojin S1 Ep 09 720p BD Dual Audio HEVC.mkv',\n",
       " '[Moviesnation.co.in] Shingeki no Kyojin S1 Ep 10 720p BD Dual Audio HEVC.mkv',\n",
       " '[MoviesNation.co.in]_Dark.S02E01.720p.NF.WEB-DL.Dual-Audio.x264.mkv',\n",
       " '[MoviesNation.co.in]_Dark.S02E02.720p.NF.WEB-DL.Dual-Audio.x264.mkv',\n",
       " '[MoviesNation.co.in]_Dark.S02E03.720p.NF.WEB-DL.Dual-Audio.x264.mkv',\n",
       " '[MoviesNation.co.in]_Dark.S02E04.720p.NF.WEB-DL.Dual-Audio.x264.mkv',\n",
       " '[MoviesNation.co.in]_Dark.S02E05.720p.NF.WEB-DL.Dual-Audio.x264.mkv',\n",
       " '[MoviesNation.co.in]_Dark.S02E06.720p.NF.WEB-DL.Dual-Audio.x264.mkv',\n",
       " '[MoviesNation.co.in]_Dark.S02E07.720p.NF.WEB-DL.Dual-Audio.x264.mkv',\n",
       " '[MoviesNation.co.in]_Dark.S02E08.720p.NF.WEB-DL.Dual-Audio.x264.mkv',\n",
       " '~$COM-InsertingAndFormattingText.xlsm']"
      ]
     },
     "execution_count": 6,
     "metadata": {},
     "output_type": "execute_result"
    }
   ],
   "source": [
    "import os \n",
    "os.listdir()"
   ]
  },
  {
   "attachments": {},
   "cell_type": "markdown",
   "id": "203dd9fe",
   "metadata": {},
   "source": [
    "#### 6. Use multiprocessing to create three separate processes. Make each one wait a random number of seconds between one and five, print the current time, and then exit."
   ]
  },
  {
   "cell_type": "code",
   "execution_count": 8,
   "id": "bcb2799b",
   "metadata": {},
   "outputs": [],
   "source": [
    "import multiprocessing\n",
    "import time \n",
    "import random\n",
    "import datetime\n",
    "\n",
    "def procOne():\n",
    "    print(f'Proc_one_Starttime -> {datetime.datetime.now()}')\n",
    "    time.sleep(random.randint(1,5))\n",
    "    print(f'Proc_one_Endtime -> {datetime.datetime.now()}')\n",
    "    \n",
    "def procTwo():\n",
    "    print(f'Proc_two_Starttime -> {datetime.datetime.now()}')\n",
    "    time.sleep(random.randint(1,5))\n",
    "    print(f'Proc_two_Endtime -> {datetime.datetime.now()}')\n",
    "\n",
    "def procThree():\n",
    "    print(f'Proc_three_Starttime -> {datetime.datetime.now()}')\n",
    "    time.sleep(random.randint(1,5))\n",
    "    print(f'Proc_three_Endtime -> {datetime.datetime.now()}')\n",
    "    \n",
    "if __name__ == \"__main__\":    \n",
    "    p1 = multiprocessing.Process(target=procOne)\n",
    "    p2 = multiprocessing.Process(target=procTwo)\n",
    "    p3 = multiprocessing.Process(target=procThree)\n",
    "\n",
    "    p1.start()\n",
    "    p2.start()\n",
    "    p3.start()\n",
    "\n",
    "    p1.join()\n",
    "    p2.join()\n",
    "    p3.join()"
   ]
  },
  {
   "attachments": {},
   "cell_type": "markdown",
   "id": "710ba830-38ca-4814-a28d-a266099ff07f",
   "metadata": {},
   "source": [
    "Due to some unknown reason. the above did not print any results in the jupyter cell. so i copied the code to a python file. executed it and pasted the ouput here  \n",
    "`(base) C:\\Users\\vishnu.adepu\\Desktop>python es_poc.py`  \n",
    "`Proc_one_Starttime -> 2021-09-22 18:41:59.354061`  \n",
    "`Proc_two_Starttime -> 2021-09-22 18:41:59.363712`  \n",
    "`Proc_two_Starttime -> 2021-09-22 18:41:59.367238`  \n",
    "`Proc_two_Endtime -> 2021-09-22 18:42:04.369860`  \n",
    "`Proc_two_Endtime -> 2021-09-22 18:42:04.369860`  \n",
    "`Proc_one_Endtime -> 2021-09-22 18:42:04.369860`  "
   ]
  },
  {
   "attachments": {},
   "cell_type": "markdown",
   "id": "71d07e78",
   "metadata": {},
   "source": [
    "#### 7. Create a date object of your day of birth."
   ]
  },
  {
   "cell_type": "code",
   "execution_count": 9,
   "id": "b3e67c1c",
   "metadata": {},
   "outputs": [
    {
     "name": "stdout",
     "output_type": "stream",
     "text": [
      "2002-07-09 00:00:00 <class 'datetime.datetime'>\n"
     ]
    }
   ],
   "source": [
    "from datetime import datetime\n",
    "my_dob = datetime.strptime('09/07/2002','%d/%m/%Y')\n",
    "print(my_dob, type(my_dob))"
   ]
  },
  {
   "attachments": {},
   "cell_type": "markdown",
   "id": "e5775db9",
   "metadata": {},
   "source": [
    "#### 8. What day of the week was your day of birth?"
   ]
  },
  {
   "cell_type": "code",
   "execution_count": 11,
   "id": "65b6ae43",
   "metadata": {},
   "outputs": [
    {
     "data": {
      "text/plain": [
       "'Tuesday'"
      ]
     },
     "execution_count": 11,
     "metadata": {},
     "output_type": "execute_result"
    }
   ],
   "source": [
    "from datetime import datetime\n",
    "my_dob = datetime(2002,7,9)\n",
    "my_dob.strftime(\"%A\")"
   ]
  },
  {
   "attachments": {},
   "cell_type": "markdown",
   "id": "abe779de",
   "metadata": {},
   "source": [
    "#### 9. When will you be (or when were you) 10,000 days old?"
   ]
  },
  {
   "cell_type": "code",
   "execution_count": 13,
   "id": "db7e28a0",
   "metadata": {},
   "outputs": [
    {
     "data": {
      "text/plain": [
       "datetime.datetime(1975, 2, 21, 0, 0)"
      ]
     },
     "execution_count": 13,
     "metadata": {},
     "output_type": "execute_result"
    }
   ],
   "source": [
    "from datetime import datetime, timedelta\n",
    "my_dob = datetime.strptime(\"09/07/2002\",'%d/%m/%Y')\n",
    "future_date = my_dob-timedelta(10000)\n",
    "future_date"
   ]
  }
 ],
 "metadata": {
  "kernelspec": {
   "display_name": "Python 3",
   "language": "python",
   "name": "python3"
  },
  "language_info": {
   "codemirror_mode": {
    "name": "ipython",
    "version": 3
   },
   "file_extension": ".py",
   "mimetype": "text/x-python",
   "name": "python",
   "nbconvert_exporter": "python",
   "pygments_lexer": "ipython3",
   "version": "3.10.9"
  }
 },
 "nbformat": 4,
 "nbformat_minor": 5
}
